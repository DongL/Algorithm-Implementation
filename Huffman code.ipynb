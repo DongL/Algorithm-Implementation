{
 "cells": [
  {
   "cell_type": "markdown",
   "metadata": {},
   "source": [
    "# CSCI B505 – Fall 2019\n",
    "## Programming Assignment 5:\n",
    "\n",
    "### Dong Liang"
   ]
  },
  {
   "cell_type": "code",
   "execution_count": 478,
   "metadata": {},
   "outputs": [],
   "source": [
    "import numpy as np\n",
    "# import re\n",
    "# import heapq\n",
    "\n",
    "# from toolkits.util import *\n",
    "\n",
    "# %load_ext autoreload\n",
    "# %autoreload 2"
   ]
  },
  {
   "cell_type": "markdown",
   "metadata": {},
   "source": [
    "## Huffman's algorithm implementation"
   ]
  },
  {
   "cell_type": "code",
   "execution_count": 479,
   "metadata": {},
   "outputs": [],
   "source": [
    "class Node(object):  \n",
    "    def __init__(self, char, freq):\n",
    "        self.left = None\n",
    "        self.right = None\n",
    "        self.parent = None\n",
    "        self.char = char\n",
    "        self.freq = freq       \n",
    "        \n",
    "    @property\n",
    "    def is_root(self):\n",
    "    \treturn self.parent == None\n",
    "\n",
    "    @property\n",
    "    def is_left(self):\n",
    "    \tif not self.is_root:\n",
    "        \treturn self.parent.left == self\n",
    "    \telse:\n",
    "    \t\treturn False\n",
    "\n",
    "    @property\n",
    "    def is_leaf(self):\n",
    "        return (self.left == None) and (self.right == None)\n",
    "\n",
    "\n",
    "\n",
    "class Huffman(object):\n",
    "\tdef __init__(self, freq_dict):\n",
    "\t\tself.freq_dict = freq_dict\n",
    "\t\tself.leaves = [Node(char, freq) for char, freq in self.freq_dict.items()]\n",
    "\t\tself.Huffman_tree = None\n",
    "\n",
    "\n",
    "\tdef _build_Huffman_tree(self):   \n",
    "\t    queue = self.leaves.copy()\n",
    "\t    Huffman_tree = []\n",
    "\t    \n",
    "\t    while len(queue) > 1:\n",
    "\t        queue.sort(key = lambda node: node.freq)\n",
    "\n",
    "\t        left = queue.pop(0)         \n",
    "\t        right = queue.pop(0)          \n",
    "\t        \n",
    "\t        parent = Node(left.char + right.char, left.freq + right.freq)   \n",
    "\t        parent.left = left                     \n",
    "\t        parent.right = right                    \n",
    "\t        \n",
    "\t        left.parent = parent         \n",
    "\t        right.parent = parent        \n",
    "\t        \n",
    "\t        queue.append(parent)\n",
    "\n",
    "\t        Huffman_tree.append(parent)   \n",
    "\n",
    "\t    Huffman_tree.extend(self.leaves)\n",
    "\t    self.Huffman_tree = Huffman_tree\n",
    "\n",
    "\t    return self.Huffman_tree \n",
    "\n",
    "\n",
    "\tdef get_Huffman_code(self):\n",
    "\n",
    "\t\tself._build_Huffman_tree()\n",
    "\n",
    "\t\tnodes_leaf = [node for node in self.Huffman_tree if node.is_leaf]\n",
    "\t\t\n",
    "\t\tHuffman_codes = {}\n",
    "\n",
    "\t\tfor leaf in nodes_leaf:\n",
    "\t\t\tcurrent_node = leaf\t\n",
    "\t\t\tcode = ''\n",
    "\t\t\twhile not current_node.is_root:\n",
    "\t\t\t\tif current_node.is_left:\n",
    "\t\t\t\t\tcode = '0' + code \n",
    "\t\t\t\telse: \n",
    "\t\t\t\t\tcode = '1' + code\n",
    "\t\t\t\tcurrent_node = current_node.parent\n",
    "\t\t\tHuffman_codes[leaf.char] = code\t\n",
    "\n",
    "\t\treturn Huffman_codes\n",
    "\n",
    "\n",
    "\tdef encoding(self, text):\n",
    "\t\t\n",
    "\t\tHuffman_codes = self.get_Huffman_code()\n",
    "\t\tHuffman_text = ''\n",
    "\t\t\n",
    "\t\tfor char in text:\n",
    "\t\t\tHuffman_text = Huffman_text + Huffman_codes[char]\n",
    "\n",
    "\t\treturn Huffman_text\t\t\n",
    "\n",
    "\t\n",
    "\tdef decoding(self, Huffman_text):\n",
    "\t\tself._build_Huffman_tree()\n",
    "\n",
    "\t\ttext = ''\n",
    "\t\troot = self.Huffman_tree[np.argmax([t.is_root for t in self.Huffman_tree])]\n",
    "\t\tcurrent_node = root\n",
    "\t\t\n",
    "\t\tfor code in Huffman_text:\n",
    "\t\t\tcode = int(code)\n",
    "\t\t\t\n",
    "\t\t\tif code == 0:\n",
    "\t\t\t\tcurrent_node = current_node.left\n",
    "\t\t\telif code == 1:\n",
    "\t\t\t\tcurrent_node = current_node.right\n",
    "\n",
    "\t\t\tif current_node.is_leaf:\n",
    "\t\t\t\ttext = text + current_node.char\n",
    "\t\t\t\tcurrent_node = root\n",
    "\n",
    "\t\treturn text\n"
   ]
  },
  {
   "cell_type": "markdown",
   "metadata": {},
   "source": [
    "## Data preprocessing"
   ]
  },
  {
   "cell_type": "code",
   "execution_count": 480,
   "metadata": {},
   "outputs": [],
   "source": [
    "def split(word): \n",
    "    return [char for char in word]  \n",
    "\n",
    "def is_feasible(char):\n",
    "    return char in \"abcdefghijklmnopqrstuvwxyz .,!?'\"\n",
    "\n",
    "\n",
    "def convert(file_name):\n",
    "    freq_dict = {}\n",
    "    with open(file_name, 'r') as file:\n",
    "        lines = file.readlines()\n",
    "        text = ''\n",
    "        for line in lines:\n",
    "\n",
    "            line = line.strip()\n",
    "            line = line.lower()\n",
    "\n",
    "            for char in split(line):\n",
    "                if is_feasible(char):\n",
    "                    text = text + char\n",
    "                    \n",
    "                    if char not in freq_dict.keys():\n",
    "                        freq_dict[char] = 1\n",
    "                    else:\n",
    "                        freq_dict[char] += 1\n",
    "    \n",
    "    return text, freq_dict"
   ]
  },
  {
   "cell_type": "markdown",
   "metadata": {},
   "source": [
    "Let's first load and convert the original text to the long string with only 32 characters (`text`). At the same, we will also compute the character freqency table and store it in a varaible called `freq_dict`"
   ]
  },
  {
   "cell_type": "code",
   "execution_count": 481,
   "metadata": {},
   "outputs": [],
   "source": [
    "text, freq_dict = convert('book.txt')"
   ]
  },
  {
   "cell_type": "code",
   "execution_count": 490,
   "metadata": {},
   "outputs": [
    {
     "data": {
      "text/plain": [
       "\"the project gutenberg ebook of women of belgium turning tragedy to triumph, bycharlotte kelloggthis ebook is for the use of anyone anywhere in the united states andmost other parts of the world at no cost and with almost no restrictionswhatsoever.  you may copy it, give it away or reuse it under the termsof the project gutenberg license included with this ebook or online atwww.gutenberg.org.  if you are not located in the united states, you'llhave to check the laws of the country where you are located before usingthis ebook.title women of belgium turning tragedy to triumphauthor charlotte kelloggrelease date october ,  ebook language englishcharacter set encoding utf start of this project gutenberg ebook women of belgium produced by f e h, mws and the online distributedproofreading team at httpwww.pgdp.nettranscribers notechanges made are noted at the end of the book.illustration a little bees diningroom for subnormal childrenwomen of belgiumturning tragedy to triumphbycharlotte kellog\""
      ]
     },
     "execution_count": 490,
     "metadata": {},
     "output_type": "execute_result"
    }
   ],
   "source": [
    "# Print first 1000 string of the original text file\n",
    "text[:1000]"
   ]
  },
  {
   "cell_type": "code",
   "execution_count": 489,
   "metadata": {},
   "outputs": [
    {
     "data": {
      "text/plain": [
       "{'t': 14963,\n",
       " 'h': 9331,\n",
       " 'e': 20817,\n",
       " ' ': 32533,\n",
       " 'p': 2842,\n",
       " 'r': 10278,\n",
       " 'o': 12232,\n",
       " 'j': 167,\n",
       " 'c': 4275,\n",
       " 'g': 3491,\n",
       " 'u': 4203,\n",
       " 'n': 10845,\n",
       " 'b': 2731,\n",
       " 'k': 1081,\n",
       " 'f': 4052,\n",
       " 'w': 3487,\n",
       " 'm': 3948,\n",
       " 'l': 6225,\n",
       " 'i': 10706,\n",
       " 'a': 11839,\n",
       " 'd': 6140,\n",
       " 'y': 2836,\n",
       " ',': 2418,\n",
       " 's': 9570,\n",
       " 'v': 1494,\n",
       " '.': 1625,\n",
       " \"'\": 9,\n",
       " 'x': 293,\n",
       " 'z': 123,\n",
       " 'q': 175,\n",
       " '?': 39,\n",
       " '!': 159}"
      ]
     },
     "execution_count": 489,
     "metadata": {},
     "output_type": "execute_result"
    }
   ],
   "source": [
    "# Print the frequency table\n",
    "freq_dict"
   ]
  },
  {
   "cell_type": "markdown",
   "metadata": {},
   "source": [
    "## Huffman encoding and decoding"
   ]
  },
  {
   "cell_type": "markdown",
   "metadata": {},
   "source": [
    "We then construct a Huffman instance and the text string will be encoded and decoded using Huffman codes and Huffman tree, respectively"
   ]
  },
  {
   "cell_type": "code",
   "execution_count": 482,
   "metadata": {},
   "outputs": [
    {
     "data": {
      "text/plain": [
       "{'t': '1100',\n",
       " 'h': '0000',\n",
       " 'e': '010',\n",
       " ' ': '111',\n",
       " 'p': '100100',\n",
       " 'r': '0011',\n",
       " 'o': '1010',\n",
       " 'j': '0010000111',\n",
       " 'c': '110111',\n",
       " 'g': '101111',\n",
       " 'u': '110110',\n",
       " 'n': '0111',\n",
       " 'b': '001010',\n",
       " 'k': '0010001',\n",
       " 'f': '110101',\n",
       " 'w': '101110',\n",
       " 'm': '110100',\n",
       " 'l': '10110',\n",
       " 'i': '0110',\n",
       " 'a': '1000',\n",
       " 'd': '10011',\n",
       " 'y': '001011',\n",
       " ',': '001001',\n",
       " 's': '0001',\n",
       " 'v': '1001010',\n",
       " '.': '1001011',\n",
       " \"'\": '00100000000',\n",
       " 'x': '001000010',\n",
       " 'z': '0010000001',\n",
       " 'q': '001000001',\n",
       " '?': '00100000001',\n",
       " '!': '0010000110'}"
      ]
     },
     "execution_count": 482,
     "metadata": {},
     "output_type": "execute_result"
    }
   ],
   "source": [
    "# Build a Huffman instance\n",
    "huffman = Huffman(freq_dict)\n",
    "\n",
    "# Get Huffman codes for all the 32 characters\n",
    "huffman.get_Huffman_code()"
   ]
  },
  {
   "cell_type": "code",
   "execution_count": 483,
   "metadata": {},
   "outputs": [
    {
     "data": {
      "text/plain": [
       "'1100000001011110010000111010001000011101011011111001111011111101101100010011100101001000111011111110100010101010101000100011111010110101111101110101011010001001111111010110101111001010010101101011110110110110110100111110011011000110111011001111011111111100001110001011110101001100101111111001010111110000110110110110110100100100000000100111100101000101111011100001000001110110101011001100010111001000101010110101101010101111101111110000000110000111101000101010101010001000111101100001111110101101000111111100000001011111011000010101111010110101111100001110010111010011101011110000111001011101110000001000110101110110011111111000000010111110110011101101100010100111110001110010001100010000111110000111100111101001010000111001111010110000000100011111100100100000111100000111110101101011111100000001011110111010100011101101001111110001100111011110101111101111010000111001111000011110011111101110011011000000111100010110110100101000011100111011110101110011010000111000011011011011111000110101001110001101'"
      ]
     },
     "execution_count": 483,
     "metadata": {},
     "output_type": "execute_result"
    }
   ],
   "source": [
    "# Get the Huffman-encoded text\n",
    "text_encoded = huffman.encoding(text)\n",
    "\n",
    "# Print the first 100 strings\n",
    "text_encoded[:1000]"
   ]
  },
  {
   "cell_type": "code",
   "execution_count": 484,
   "metadata": {},
   "outputs": [
    {
     "data": {
      "text/plain": [
       "\"the project gutenberg ebook of women of belgium turning tragedy to triumph, bycharlotte kelloggthis ebook is for the use of anyone anywhere in the united states andmost other parts of the world at no cost and with almost no restrictionswhatsoever.  you may copy it, give it away or reuse it under the termsof the project gutenberg license included with this ebook or online atwww.gutenberg.org.  if you are not located in the united states, you'llhave to check the laws of the country where you are located before usingthis ebook.title women of belgium turning tragedy to triumphauthor charlotte kelloggrelease date october ,  ebook language englishcharacter set encoding utf start of this project gutenberg ebook women of belgium produced by f e h, mws and the online distributedproofreading team at httpwww.pgdp.nettranscribers notechanges made are noted at the end of the book.illustration a little bees diningroom for subnormal childrenwomen of belgiumturning tragedy to triumphbycharlotte kellog\""
      ]
     },
     "execution_count": 484,
     "metadata": {},
     "output_type": "execute_result"
    }
   ],
   "source": [
    "# Recover the original string (text) using Huffman-encoded text\n",
    "text_decoded = huffman.decoding(text_encoded)\n",
    "\n",
    "# Print the first 1000 strings of the decoded text\n",
    "text_decoded[:1000]"
   ]
  },
  {
   "cell_type": "markdown",
   "metadata": {},
   "source": [
    "## Calculate the bits saved by using Huffman encoding"
   ]
  },
  {
   "cell_type": "code",
   "execution_count": 485,
   "metadata": {},
   "outputs": [
    {
     "data": {
      "text/plain": [
       "974635"
      ]
     },
     "execution_count": 485,
     "metadata": {},
     "output_type": "execute_result"
    }
   ],
   "source": [
    "# Before Huffman encoding\n",
    "num_of_char = np.sum(list(freq_dict.values()))\n",
    "bits = 5 * num_of_char\n",
    "bits"
   ]
  },
  {
   "cell_type": "code",
   "execution_count": 486,
   "metadata": {},
   "outputs": [
    {
     "data": {
      "text/plain": [
       "825259"
      ]
     },
     "execution_count": 486,
     "metadata": {},
     "output_type": "execute_result"
    }
   ],
   "source": [
    "# After Huffman encoding\n",
    "bits_huffman = len(text_encoded) \n",
    "bits_huffman"
   ]
  },
  {
   "cell_type": "code",
   "execution_count": 487,
   "metadata": {},
   "outputs": [
    {
     "data": {
      "text/plain": [
       "149376"
      ]
     },
     "execution_count": 487,
     "metadata": {},
     "output_type": "execute_result"
    }
   ],
   "source": [
    "# Bits saved by Huffman encoding\n",
    "Diff = bits - bits_huffman\n",
    "Diff"
   ]
  },
  {
   "cell_type": "code",
   "execution_count": 488,
   "metadata": {},
   "outputs": [
    {
     "data": {
      "text/plain": [
       "15.326352942383558"
      ]
     },
     "execution_count": 488,
     "metadata": {},
     "output_type": "execute_result"
    }
   ],
   "source": [
    "# Percent of bits saved by Huffman encoding\n",
    "Percent = 100.0 * (1. - bits_huffman / bits)\n",
    "Percent"
   ]
  },
  {
   "cell_type": "code",
   "execution_count": null,
   "metadata": {},
   "outputs": [],
   "source": []
  }
 ],
 "metadata": {
  "kernelspec": {
   "display_name": "Python 3",
   "language": "python",
   "name": "python3"
  },
  "language_info": {
   "codemirror_mode": {
    "name": "ipython",
    "version": 3
   },
   "file_extension": ".py",
   "mimetype": "text/x-python",
   "name": "python",
   "nbconvert_exporter": "python",
   "pygments_lexer": "ipython3",
   "version": "3.6.7"
  }
 },
 "nbformat": 4,
 "nbformat_minor": 4
}
