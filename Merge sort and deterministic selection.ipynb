{
 "cells": [
  {
   "cell_type": "markdown",
   "metadata": {
    "colab_type": "text",
    "id": "oq1_jx28KihW"
   },
   "source": [
    "# CSCI B505 – Lab 3\n",
    "\n",
    "## Dong Liang\n"
   ]
  },
  {
   "cell_type": "markdown",
   "metadata": {
    "colab_type": "text",
    "id": "ol7Dn1QDKihY"
   },
   "source": [
    "## Implement Merge Sort "
   ]
  },
  {
   "cell_type": "code",
   "execution_count": 226,
   "metadata": {
    "colab": {},
    "colab_type": "code",
    "id": "8Yv-TiWBKihZ"
   },
   "outputs": [],
   "source": [
    "def merge_sort(A):\n",
    "\n",
    "    if len(A) > 1:\n",
    "        mi = int(len(A)/2)\n",
    "        left = A[:mi]\n",
    "        right = A[mi:]\n",
    "        \n",
    "        merge_sort(left)\n",
    "        merge_sort(right)   \n",
    "        \n",
    "        left.append(float(\"inf\"))\n",
    "        right.append(float(\"inf\"))\n",
    "\n",
    "        i = 0 \n",
    "        j = 0\n",
    "        k = 0\n",
    "        \n",
    "        while i <= len(left) and j <= len(right) and k < len(A):\n",
    "            if left[i] <= right[j]:\n",
    "                A[k] = left[i]\n",
    "                i += 1\n",
    "            else:\n",
    "                A[k] = right[j]\n",
    "                j += 1\n",
    "            k += 1\n",
    "            "
   ]
  },
  {
   "cell_type": "markdown",
   "metadata": {
    "colab_type": "text",
    "id": "HtCGXDbqKihe"
   },
   "source": [
    "### Self check"
   ]
  },
  {
   "cell_type": "code",
   "execution_count": 227,
   "metadata": {
    "colab": {},
    "colab_type": "code",
    "id": "yK5UPv8kKihf",
    "outputId": "b28efa61-6844-4feb-f40e-69eb28677b5d"
   },
   "outputs": [
    {
     "data": {
      "text/plain": [
       "[1, 3, 3, 5, 6, 6, 8, 8, 22]"
      ]
     },
     "execution_count": 227,
     "metadata": {},
     "output_type": "execute_result"
    }
   ],
   "source": [
    "A = [5,8,3,3,6,8,22,6,1]\n",
    "merge_sort(A)\n",
    "A"
   ]
  },
  {
   "cell_type": "markdown",
   "metadata": {
    "colab_type": "text",
    "id": "X72YOikiKuDZ"
   },
   "source": [
    "## Algorithm implementation of deterministic selection"
   ]
  },
  {
   "cell_type": "code",
   "execution_count": 228,
   "metadata": {
    "colab": {},
    "colab_type": "code",
    "id": "bh1XCCO-Kihj"
   },
   "outputs": [],
   "source": [
    "def insertion_sort(A):\n",
    "    for i in range(1,len(A)): \n",
    "                 \n",
    "        currentvalue = A[i]     \n",
    "        pos = i             \n",
    "        \n",
    "        while pos>0 and A[pos-1]>currentvalue:\n",
    "            \n",
    "            A[pos]=A[pos-1]\n",
    "            pos -= 1\n",
    "\n",
    "        A[pos]=currentvalue     \n",
    "        \n",
    "        \n",
    "def findMedian(A):\n",
    "    assert len(A) > 0\n",
    "    \n",
    "    # sort\n",
    "    insertion_sort(A)\n",
    "    \n",
    "    # get median\n",
    "    mi = int((len(A) + 1)/2) - 1\n",
    "    return A[mi] \n",
    "\n",
    "def findMedianOfMedians(A):\n",
    "    if len(A) <= 5:\n",
    "        return findMedian(A)\n",
    "    \n",
    "    # split into n/5 groups\n",
    "    grp = {}\n",
    "\n",
    "    n = int(len(A)/5)\n",
    "    mod = len(A) % 5\n",
    "    runs = n + (1 if mod > 0 else 0)\n",
    "    \n",
    "    for i in range(runs):\n",
    "        grp[i] = []\n",
    "\n",
    "    \n",
    "    j = 0\n",
    "    for i in range(len(A)):\n",
    "        grp[j].append(A[i])\n",
    "        \n",
    "        if (i + 1) % 5 == 0 and i + 1 != len(A):\n",
    "            j += 1\n",
    "    \n",
    "    # find the median for each group\n",
    "    medians = [findMedian(v) for v in grp.values() if len(v) != 0]\n",
    "    \n",
    "    # recursively find the median of medians\n",
    "    medianOfMedians = SELECT(medians, int((len(medians) + 1)/2) - 1)\n",
    "    \n",
    "    return medianOfMedians \n",
    "\n",
    "\n",
    "def SELECT(A, i):\n",
    "    \n",
    "    if i < 0 or i > len(A):\n",
    "        raise ValueError(f'i must be less than {len(A)} and greater than 0')\n",
    "\n",
    "    # base case\n",
    "    if len(A) == 1:\n",
    "        return A[0]\n",
    "\n",
    "    # partition\n",
    "    x = findMedianOfMedians(A)\n",
    "    \n",
    "    left = [el for el in A if el <= x]\n",
    "    right = [el for el in A if el > x]\n",
    "    p = len(left)\n",
    "    \n",
    "    # find ith element\n",
    "    if p == i:\n",
    "        return x\n",
    "    elif i < p:\n",
    "        return SELECT(left, i)  \n",
    "    else:\n",
    "        return SELECT(right, i - p)\n",
    "        "
   ]
  },
  {
   "cell_type": "markdown",
   "metadata": {},
   "source": [
    "### Self check"
   ]
  },
  {
   "cell_type": "code",
   "execution_count": 229,
   "metadata": {
    "colab": {},
    "colab_type": "code",
    "id": "6yyeAi41Kihl"
   },
   "outputs": [
    {
     "name": "stdout",
     "output_type": "stream",
     "text": [
      "[0, 1, 2, 3, 4, 5, 6, 7, 8, 9]\n"
     ]
    },
    {
     "data": {
      "text/plain": [
       "4"
      ]
     },
     "execution_count": 229,
     "metadata": {},
     "output_type": "execute_result"
    }
   ],
   "source": [
    "A = list(range(10))\n",
    "print(A)\n",
    "SELECT(A,5)\n"
   ]
  },
  {
   "cell_type": "markdown",
   "metadata": {},
   "source": [
    "## Running time of Merge Sort"
   ]
  },
  {
   "cell_type": "code",
   "execution_count": 230,
   "metadata": {},
   "outputs": [],
   "source": [
    "import numpy as np\n",
    "import pandas as pd\n",
    "import time"
   ]
  },
  {
   "cell_type": "code",
   "execution_count": 231,
   "metadata": {},
   "outputs": [],
   "source": [
    "# Load data\n",
    "numbers = np.loadtxt('input-programming-3.txt').tolist()"
   ]
  },
  {
   "cell_type": "code",
   "execution_count": 232,
   "metadata": {},
   "outputs": [],
   "source": [
    "def get_average_running_time(arr, FUNC, **kwargs):\n",
    "    running_times = list()\n",
    "    for i in range(3):\n",
    "        start = time.time()\n",
    "        FUNC(A = arr, **kwargs)\n",
    "        end = time.time()\n",
    "        delta = end - start\n",
    "        running_times.append(delta)\n",
    "    return np.mean(running_times)"
   ]
  },
  {
   "cell_type": "code",
   "execution_count": 233,
   "metadata": {},
   "outputs": [],
   "source": [
    "rt = dict()\n",
    "for n in range(5000, 105000, 5000):\n",
    "    rt[n] = get_average_running_time(numbers[:n], merge_sort)"
   ]
  },
  {
   "cell_type": "markdown",
   "metadata": {},
   "source": [
    "## Visually plot the measurements "
   ]
  },
  {
   "cell_type": "code",
   "execution_count": 234,
   "metadata": {},
   "outputs": [],
   "source": [
    "import matplotlib.pyplot as plt\n",
    "def plot_measurements(obs):\n",
    "    plt.style.use('default')\n",
    "    plt.plot(list(obs.keys()), list(obs.values()), 'o-', label = 'Merge Sort')\n",
    "    plt.xlabel('Sample size (n)')\n",
    "    plt.ylabel('Average running time (seconds)')\n",
    "    plt.grid()\n",
    "    plt.legend()\n",
    "    plt.title('Visualization of average running times (Merge Sort)')\n",
    "    plt.gcf().set_size_inches(8, 6)"
   ]
  },
  {
   "cell_type": "code",
   "execution_count": 235,
   "metadata": {},
   "outputs": [
    {
     "data": {
      "image/png": "[encoded data removed]",
      "text/plain": [
       "<Figure size 800x600 with 1 Axes>"
      ]
     },
     "metadata": {},
     "output_type": "display_data"
    }
   ],
   "source": [
    "plot_measurements(rt)"
   ]
  },
  {
   "cell_type": "code",
   "execution_count": null,
   "metadata": {},
   "outputs": [],
   "source": []
  },
  {
   "cell_type": "code",
   "execution_count": null,
   "metadata": {},
   "outputs": [],
   "source": []
  },
  {
   "cell_type": "code",
   "execution_count": null,
   "metadata": {},
   "outputs": [],
   "source": []
  },
  {
   "cell_type": "code",
   "execution_count": null,
   "metadata": {},
   "outputs": [],
   "source": []
  }
 ],
 "metadata": {
  "colab": {
   "name": "Lab3.ipynb",
   "provenance": []
  },
  "kernelspec": {
   "display_name": "Python 3",
   "language": "python",
   "name": "python3"
  },
  "language_info": {
   "codemirror_mode": {
    "name": "ipython",
    "version": 3
   },
   "file_extension": ".py",
   "mimetype": "text/x-python",
   "name": "python",
   "nbconvert_exporter": "python",
   "pygments_lexer": "ipython3",
   "version": "3.6.4"
  }
 },
 "nbformat": 4,
 "nbformat_minor": 4
}
