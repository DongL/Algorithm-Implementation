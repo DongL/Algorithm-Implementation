{
 "cells": [
  {
   "cell_type": "markdown",
   "metadata": {},
   "source": [
    "# CSCI B505 – Fall 2019\n",
    "# Lab 2"
   ]
  },
  {
   "cell_type": "markdown",
   "metadata": {},
   "source": [
    "## Implement a brute-force solution "
   ]
  },
  {
   "cell_type": "code",
   "execution_count": 1,
   "metadata": {},
   "outputs": [],
   "source": [
    "def brute_force(A):\n",
    "\n",
    "    # initialize containers\n",
    "    arr_size = len(A)\n",
    "    max_sum = A[0]\n",
    "    sum = dict()\n",
    "    \n",
    "    # scan all the possible combinations and record the max sum with its subarray\n",
    "    for i in range(arr_size): \n",
    "        sum[i] = 0\n",
    "        \n",
    "        # scan all the possible combinations\n",
    "        for j in range(i, arr_size, 1):\n",
    "            sum[i] += A[j]\n",
    "\n",
    "            # record the max sum with its subarray\n",
    "            if max_sum < sum[i]:\n",
    "                max_sum = sum[i] \n",
    "                subarray_left = i\n",
    "                subarray_right = j\n",
    "                                \n",
    "    return subarray_left, subarray_right, max_sum"
   ]
  },
  {
   "cell_type": "markdown",
   "metadata": {},
   "source": [
    "### Self check"
   ]
  },
  {
   "cell_type": "code",
   "execution_count": 2,
   "metadata": {},
   "outputs": [],
   "source": [
    "A = [13, -3, -25, 20, -3, -16, -23, 18, 20, -7, 12, -5, -22, 15, -4, 7]"
   ]
  },
  {
   "cell_type": "code",
   "execution_count": 3,
   "metadata": {},
   "outputs": [
    {
     "data": {
      "text/plain": [
       "(7, 10, 43)"
      ]
     },
     "execution_count": 3,
     "metadata": {},
     "output_type": "execute_result"
    }
   ],
   "source": [
    "brute_force(A)"
   ]
  },
  {
   "cell_type": "markdown",
   "metadata": {},
   "source": [
    "## Implement a divide-and-conquer solution"
   ]
  },
  {
   "cell_type": "code",
   "execution_count": 6,
   "metadata": {},
   "outputs": [],
   "source": [
    "import numpy as np\n",
    "\n",
    "def find_max_crossing_subarray(A, lo, mi, hi):\n",
    "    sum = 0\n",
    "    left_sum = A[lo]\n",
    "    max_left = lo\n",
    "    for i in range(mi, lo, -1):\n",
    "        sum += A[i] \n",
    "        if left_sum < sum:\n",
    "            left_sum = sum\n",
    "            max_left = i\n",
    "    \n",
    "    sum = 0\n",
    "    right_sum = A[mi+1]\n",
    "    max_right = hi\n",
    "    for j in range(mi+1, hi, 1):\n",
    "        sum += A[j]\n",
    "        if right_sum < sum:\n",
    "            right_sum = sum\n",
    "            max_right = j\n",
    "    \n",
    "    return (max_left, max_right, left_sum + right_sum)\n",
    "        \n",
    "\n",
    "def find_max_subarray(A, lo, hi): # 边界设定, hi 为最末元素的实际下标\n",
    "    # 出站设置  # 递归基\n",
    "    if hi == lo:    \n",
    "        return (lo, hi, A[lo])  \n",
    "    \n",
    "    # 运行机制/递归函数\n",
    "    else:\n",
    "        mi = int(np.floor((lo + hi)/2))\n",
    "        (left_lo, left_hi, left_sum) = find_max_subarray(A, lo, mi)    \n",
    "        (right_lo, right_hi, right_sum) = find_max_subarray(A, mi + 1, hi)\n",
    "        (cross_lo, cross_hi, cross_sum) = find_max_crossing_subarray(A, lo, mi, hi)\n",
    "    \n",
    "    if left_sum <= right_sum and cross_sum <= right_sum:\n",
    "        return (right_lo, right_hi, right_sum)\n",
    "    elif right_sum <= left_sum and cross_sum <= left_sum:\n",
    "        return (left_lo, left_hi, left_sum)\n",
    "    else:\n",
    "        return (cross_lo, cross_hi, cross_sum)  # 返回实际下标"
   ]
  },
  {
   "cell_type": "markdown",
   "metadata": {},
   "source": [
    "### Self check"
   ]
  },
  {
   "cell_type": "code",
   "execution_count": 7,
   "metadata": {},
   "outputs": [
    {
     "data": {
      "text/plain": [
       "(7, 10, 43)"
      ]
     },
     "execution_count": 7,
     "metadata": {},
     "output_type": "execute_result"
    }
   ],
   "source": [
    "find_max_subarray(A, 0, len(A) - 1)"
   ]
  },
  {
   "cell_type": "markdown",
   "metadata": {},
   "source": [
    "## Running time"
   ]
  },
  {
   "cell_type": "code",
   "execution_count": 11,
   "metadata": {},
   "outputs": [],
   "source": [
    "import numpy as np\n",
    "import pandas as pd\n",
    "import time"
   ]
  },
  {
   "cell_type": "code",
   "execution_count": 9,
   "metadata": {},
   "outputs": [],
   "source": [
    "# Load data\n",
    "numbers = np.loadtxt('input-programming-2.txt')"
   ]
  },
  {
   "cell_type": "code",
   "execution_count": 10,
   "metadata": {},
   "outputs": [],
   "source": [
    "def get_average_running_time(arr, FUNC, **kwargs):\n",
    "    running_times = list()\n",
    "    for i in range(3):\n",
    "        start = time.time()\n",
    "        FUNC(A = arr, **kwargs)\n",
    "        end = time.time()\n",
    "        delta = end - start\n",
    "        running_times.append(delta)\n",
    "    return np.mean(running_times)"
   ]
  },
  {
   "cell_type": "markdown",
   "metadata": {},
   "source": [
    "### Brute-force method"
   ]
  },
  {
   "cell_type": "code",
   "execution_count": 26,
   "metadata": {},
   "outputs": [],
   "source": [
    "obs_brute_force = dict()\n",
    "for n in range(5000, 105000, 5000):\n",
    "    obs_brute_force[n] = get_average_running_time(numbers[:n], brute_force)"
   ]
  },
  {
   "cell_type": "code",
   "execution_count": 27,
   "metadata": {},
   "outputs": [],
   "source": [
    "pd.DataFrame({'key':list(obs_brute_force.keys()), 'value': list(obs_brute_force.values())}).to_csv('obs_brute_force.csv')"
   ]
  },
  {
   "cell_type": "markdown",
   "metadata": {},
   "source": [
    "### Divide-and-conquer method"
   ]
  },
  {
   "cell_type": "code",
   "execution_count": 12,
   "metadata": {},
   "outputs": [],
   "source": [
    "obs_divide_and_conquer = dict()\n",
    "for n in range(5000, 105000, 5000):\n",
    "    obs_divide_and_conquer[n] = get_average_running_time(numbers[:n], find_max_subarray, lo = 0, hi = n-1)"
   ]
  },
  {
   "cell_type": "code",
   "execution_count": 22,
   "metadata": {},
   "outputs": [
    {
     "data": {
      "text/plain": [
       "{5000: 0.018796602884928387,\n",
       " 10000: 0.03842536608378092,\n",
       " 15000: 0.05871192614237467,\n",
       " 20000: 0.07810266812642415,\n",
       " 25000: 0.09900625546773274,\n",
       " 30000: 0.12126954396565755,\n",
       " 35000: 0.14180827140808105,\n",
       " 40000: 0.1598482926686605,\n",
       " 45000: 0.18506836891174316,\n",
       " 50000: 0.20367789268493652,\n",
       " 55000: 0.2275384267171224,\n",
       " 60000: 0.2449932098388672,\n",
       " 65000: 0.2629093329111735,\n",
       " 70000: 0.2902848720550537,\n",
       " 75000: 0.31073760986328125,\n",
       " 80000: 0.33490602175394696,\n",
       " 85000: 0.3645491600036621,\n",
       " 90000: 0.3835917313893636,\n",
       " 95000: 0.39992618560791016,\n",
       " 100000: 0.45177284876505536}"
      ]
     },
     "execution_count": 22,
     "metadata": {},
     "output_type": "execute_result"
    }
   ],
   "source": [
    "obs_divide_and_conquer"
   ]
  },
  {
   "cell_type": "code",
   "execution_count": 25,
   "metadata": {},
   "outputs": [],
   "source": [
    "pd.DataFrame({'key':list(obs_divide_and_conquer.keys()), 'value': list(obs_divide_and_conquer.values())}).to_csv('obs_divide_and_conquer.csv')"
   ]
  },
  {
   "cell_type": "markdown",
   "metadata": {},
   "source": [
    "## Visually plot the measurements "
   ]
  },
  {
   "cell_type": "code",
   "execution_count": 301,
   "metadata": {},
   "outputs": [],
   "source": [
    "import matplotlib.pyplot as plt\n",
    "def plot_measurements(obs1, obs2):\n",
    "    plt.style.use('default')\n",
    "    plt.plot(list(obs1.keys()), list(obs1.values()), 'o-')\n",
    "    plt.plot(list(obs2.keys()), list(obs2.values()), 'o-')\n",
    "    plt.xlabel('Sample size (n)')\n",
    "    plt.ylabel('Average running time (seconds)')\n",
    "    plt.grid()\n",
    "    plt.title('Visualiztion of average running times between the brute-force and divide-and-conquer methods')\n",
    "    plt.gcf().set_size_inches(8, 6)"
   ]
  },
  {
   "cell_type": "code",
   "execution_count": 306,
   "metadata": {},
   "outputs": [
    {
     "data": {
      "image/png": "[encoded data removed]",
      "text/plain": [
       "<Figure size 800x600 with 1 Axes>"
      ]
     },
     "metadata": {},
     "output_type": "display_data"
    }
   ],
   "source": [
    "plot_measurements(obs_brute_force, obs_divide_and_conquer)"
   ]
  },
  {
   "cell_type": "code",
   "execution_count": null,
   "metadata": {},
   "outputs": [],
   "source": [
    "obs_divide_and_conquer"
   ]
  },
  {
   "cell_type": "code",
   "execution_count": 322,
   "metadata": {},
   "outputs": [
    {
     "data": {
      "text/plain": [
       "(1310, 1915, 4572.0)"
      ]
     },
     "execution_count": 322,
     "metadata": {},
     "output_type": "execute_result"
    }
   ],
   "source": [
    "find_max_subarray(numbers[:10000], 0, 10000-1)"
   ]
  },
  {
   "cell_type": "code",
   "execution_count": 323,
   "metadata": {},
   "outputs": [
    {
     "data": {
      "text/plain": [
       "(1273, 1915, 4572.0)"
      ]
     },
     "execution_count": 323,
     "metadata": {},
     "output_type": "execute_result"
    }
   ],
   "source": [
    "brute_force(numbers[:10000])"
   ]
  },
  {
   "cell_type": "code",
   "execution_count": 328,
   "metadata": {},
   "outputs": [
    {
     "data": {
      "text/plain": [
       "0.0"
      ]
     },
     "execution_count": 328,
     "metadata": {},
     "output_type": "execute_result"
    }
   ],
   "source": [
    "(numbers[1273:1310]).sum()"
   ]
  },
  {
   "cell_type": "code",
   "execution_count": 1,
   "metadata": {},
   "outputs": [],
   "source": [
    "import pandas as pd\n",
    "import numpy as np\n",
    "bf = pd.read_csv('obs_brute_forceb.csv', )\n",
    "dc = pd.read_csv('obs_divide_and_conquerb.csv')"
   ]
  },
  {
   "cell_type": "code",
   "execution_count": 9,
   "metadata": {},
   "outputs": [
    {
     "data": {
      "text/html": [
       "<div>\n",
       "<style scoped>\n",
       "    .dataframe tbody tr th:only-of-type {\n",
       "        vertical-align: middle;\n",
       "    }\n",
       "\n",
       "    .dataframe tbody tr th {\n",
       "        vertical-align: top;\n",
       "    }\n",
       "\n",
       "    .dataframe thead th {\n",
       "        text-align: right;\n",
       "    }\n",
       "</style>\n",
       "<table border=\"1\" class=\"dataframe\">\n",
       "  <thead>\n",
       "    <tr style=\"text-align: right;\">\n",
       "      <th></th>\n",
       "      <th>0</th>\n",
       "      <th>1</th>\n",
       "      <th>2</th>\n",
       "      <th>3</th>\n",
       "      <th>4</th>\n",
       "      <th>5</th>\n",
       "    </tr>\n",
       "  </thead>\n",
       "  <tbody>\n",
       "    <tr>\n",
       "      <th>0</th>\n",
       "      <td>0.0</td>\n",
       "      <td>500.0</td>\n",
       "      <td>0.026844</td>\n",
       "      <td>0.0</td>\n",
       "      <td>500.0</td>\n",
       "      <td>0.002148</td>\n",
       "    </tr>\n",
       "    <tr>\n",
       "      <th>1</th>\n",
       "      <td>1.0</td>\n",
       "      <td>1000.0</td>\n",
       "      <td>0.103505</td>\n",
       "      <td>1.0</td>\n",
       "      <td>1000.0</td>\n",
       "      <td>0.004473</td>\n",
       "    </tr>\n",
       "    <tr>\n",
       "      <th>2</th>\n",
       "      <td>2.0</td>\n",
       "      <td>1500.0</td>\n",
       "      <td>0.234180</td>\n",
       "      <td>2.0</td>\n",
       "      <td>1500.0</td>\n",
       "      <td>0.006483</td>\n",
       "    </tr>\n",
       "    <tr>\n",
       "      <th>3</th>\n",
       "      <td>3.0</td>\n",
       "      <td>2000.0</td>\n",
       "      <td>0.417960</td>\n",
       "      <td>3.0</td>\n",
       "      <td>2000.0</td>\n",
       "      <td>0.008419</td>\n",
       "    </tr>\n",
       "    <tr>\n",
       "      <th>4</th>\n",
       "      <td>4.0</td>\n",
       "      <td>2500.0</td>\n",
       "      <td>0.654436</td>\n",
       "      <td>4.0</td>\n",
       "      <td>2500.0</td>\n",
       "      <td>0.010917</td>\n",
       "    </tr>\n",
       "    <tr>\n",
       "      <th>5</th>\n",
       "      <td>5.0</td>\n",
       "      <td>3000.0</td>\n",
       "      <td>0.939576</td>\n",
       "      <td>5.0</td>\n",
       "      <td>3000.0</td>\n",
       "      <td>0.013153</td>\n",
       "    </tr>\n",
       "    <tr>\n",
       "      <th>6</th>\n",
       "      <td>6.0</td>\n",
       "      <td>3500.0</td>\n",
       "      <td>1.270419</td>\n",
       "      <td>6.0</td>\n",
       "      <td>3500.0</td>\n",
       "      <td>0.015461</td>\n",
       "    </tr>\n",
       "    <tr>\n",
       "      <th>7</th>\n",
       "      <td>7.0</td>\n",
       "      <td>4000.0</td>\n",
       "      <td>1.667336</td>\n",
       "      <td>7.0</td>\n",
       "      <td>4000.0</td>\n",
       "      <td>0.017999</td>\n",
       "    </tr>\n",
       "    <tr>\n",
       "      <th>8</th>\n",
       "      <td>8.0</td>\n",
       "      <td>4500.0</td>\n",
       "      <td>2.120564</td>\n",
       "      <td>8.0</td>\n",
       "      <td>4500.0</td>\n",
       "      <td>0.020993</td>\n",
       "    </tr>\n",
       "    <tr>\n",
       "      <th>9</th>\n",
       "      <td>9.0</td>\n",
       "      <td>5000.0</td>\n",
       "      <td>2.614974</td>\n",
       "      <td>9.0</td>\n",
       "      <td>5000.0</td>\n",
       "      <td>0.022845</td>\n",
       "    </tr>\n",
       "    <tr>\n",
       "      <th>10</th>\n",
       "      <td>10.0</td>\n",
       "      <td>5500.0</td>\n",
       "      <td>3.153368</td>\n",
       "      <td>10.0</td>\n",
       "      <td>5500.0</td>\n",
       "      <td>0.025099</td>\n",
       "    </tr>\n",
       "    <tr>\n",
       "      <th>11</th>\n",
       "      <td>11.0</td>\n",
       "      <td>6000.0</td>\n",
       "      <td>3.729974</td>\n",
       "      <td>11.0</td>\n",
       "      <td>6000.0</td>\n",
       "      <td>0.027777</td>\n",
       "    </tr>\n",
       "    <tr>\n",
       "      <th>12</th>\n",
       "      <td>12.0</td>\n",
       "      <td>6500.0</td>\n",
       "      <td>4.421363</td>\n",
       "      <td>12.0</td>\n",
       "      <td>6500.0</td>\n",
       "      <td>0.030010</td>\n",
       "    </tr>\n",
       "    <tr>\n",
       "      <th>13</th>\n",
       "      <td>13.0</td>\n",
       "      <td>7000.0</td>\n",
       "      <td>5.205954</td>\n",
       "      <td>13.0</td>\n",
       "      <td>7000.0</td>\n",
       "      <td>0.032349</td>\n",
       "    </tr>\n",
       "    <tr>\n",
       "      <th>14</th>\n",
       "      <td>14.0</td>\n",
       "      <td>7500.0</td>\n",
       "      <td>5.898655</td>\n",
       "      <td>14.0</td>\n",
       "      <td>7500.0</td>\n",
       "      <td>0.035975</td>\n",
       "    </tr>\n",
       "    <tr>\n",
       "      <th>15</th>\n",
       "      <td>15.0</td>\n",
       "      <td>8000.0</td>\n",
       "      <td>6.717671</td>\n",
       "      <td>15.0</td>\n",
       "      <td>8000.0</td>\n",
       "      <td>0.037448</td>\n",
       "    </tr>\n",
       "    <tr>\n",
       "      <th>16</th>\n",
       "      <td>16.0</td>\n",
       "      <td>8500.0</td>\n",
       "      <td>7.584743</td>\n",
       "      <td>16.0</td>\n",
       "      <td>8500.0</td>\n",
       "      <td>0.040912</td>\n",
       "    </tr>\n",
       "    <tr>\n",
       "      <th>17</th>\n",
       "      <td>17.0</td>\n",
       "      <td>9000.0</td>\n",
       "      <td>8.414668</td>\n",
       "      <td>17.0</td>\n",
       "      <td>9000.0</td>\n",
       "      <td>0.044439</td>\n",
       "    </tr>\n",
       "    <tr>\n",
       "      <th>18</th>\n",
       "      <td>18.0</td>\n",
       "      <td>9500.0</td>\n",
       "      <td>9.403552</td>\n",
       "      <td>18.0</td>\n",
       "      <td>9500.0</td>\n",
       "      <td>0.045572</td>\n",
       "    </tr>\n",
       "    <tr>\n",
       "      <th>19</th>\n",
       "      <td>19.0</td>\n",
       "      <td>10000.0</td>\n",
       "      <td>10.589121</td>\n",
       "      <td>19.0</td>\n",
       "      <td>10000.0</td>\n",
       "      <td>0.048188</td>\n",
       "    </tr>\n",
       "  </tbody>\n",
       "</table>\n",
       "</div>"
      ],
      "text/plain": [
       "       0        1          2     3        4         5\n",
       "0    0.0    500.0   0.026844   0.0    500.0  0.002148\n",
       "1    1.0   1000.0   0.103505   1.0   1000.0  0.004473\n",
       "2    2.0   1500.0   0.234180   2.0   1500.0  0.006483\n",
       "3    3.0   2000.0   0.417960   3.0   2000.0  0.008419\n",
       "4    4.0   2500.0   0.654436   4.0   2500.0  0.010917\n",
       "5    5.0   3000.0   0.939576   5.0   3000.0  0.013153\n",
       "6    6.0   3500.0   1.270419   6.0   3500.0  0.015461\n",
       "7    7.0   4000.0   1.667336   7.0   4000.0  0.017999\n",
       "8    8.0   4500.0   2.120564   8.0   4500.0  0.020993\n",
       "9    9.0   5000.0   2.614974   9.0   5000.0  0.022845\n",
       "10  10.0   5500.0   3.153368  10.0   5500.0  0.025099\n",
       "11  11.0   6000.0   3.729974  11.0   6000.0  0.027777\n",
       "12  12.0   6500.0   4.421363  12.0   6500.0  0.030010\n",
       "13  13.0   7000.0   5.205954  13.0   7000.0  0.032349\n",
       "14  14.0   7500.0   5.898655  14.0   7500.0  0.035975\n",
       "15  15.0   8000.0   6.717671  15.0   8000.0  0.037448\n",
       "16  16.0   8500.0   7.584743  16.0   8500.0  0.040912\n",
       "17  17.0   9000.0   8.414668  17.0   9000.0  0.044439\n",
       "18  18.0   9500.0   9.403552  18.0   9500.0  0.045572\n",
       "19  19.0  10000.0  10.589121  19.0  10000.0  0.048188"
      ]
     },
     "execution_count": 9,
     "metadata": {},
     "output_type": "execute_result"
    }
   ],
   "source": [
    "pd.DataFrame(np.c_[bf, dc])"
   ]
  },
  {
   "cell_type": "code",
   "execution_count": null,
   "metadata": {},
   "outputs": [],
   "source": []
  }
 ],
 "metadata": {
  "kernelspec": {
   "display_name": "Python 3",
   "language": "python",
   "name": "python3"
  },
  "language_info": {
   "codemirror_mode": {
    "name": "ipython",
    "version": 3
   },
   "file_extension": ".py",
   "mimetype": "text/x-python",
   "name": "python",
   "nbconvert_exporter": "python",
   "pygments_lexer": "ipython3",
   "version": "3.6.7"
  }
 },
 "nbformat": 4,
 "nbformat_minor": 4
}
