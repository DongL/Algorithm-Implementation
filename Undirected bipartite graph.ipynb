{
 "cells": [
  {
   "cell_type": "markdown",
   "metadata": {},
   "source": [
    "# CSCI B505 – Fall 2019\n",
    "## Programming Assignment 6:\n",
    "\n",
    "### Dong Liang"
   ]
  },
  {
   "cell_type": "markdown",
   "metadata": {},
   "source": [
    "## Implementation of the algorithm"
   ]
  },
  {
   "cell_type": "code",
   "execution_count": 36,
   "metadata": {},
   "outputs": [],
   "source": [
    "class Node(object):\n",
    "    def __init__(self, key):\n",
    "        self.key = key\n",
    "        self.neighbors = set()\n",
    "        self.belongs_to = None\n",
    "                "
   ]
  },
  {
   "cell_type": "code",
   "execution_count": 41,
   "metadata": {},
   "outputs": [],
   "source": [
    "class Adjacency_List(object):\n",
    "    \n",
    "    def __init__(self, in_path):\n",
    "        self.in_path = in_path\n",
    "        self.existing_nodes = dict()\n",
    "        self.sets = [\"Set1\", \"Set2\"]\n",
    "        self.adj_list = set()\n",
    "        self._build_an_adjacency_list_from_file(self.in_path)\n",
    "\n",
    "    \n",
    "        \n",
    "    def _build_individual_node(self, key):\n",
    "        \n",
    "        if key not in self.existing_nodes.keys():  # 唯一性\n",
    "            node = Node(key)\n",
    "            self.existing_nodes[key] = node\n",
    "        else:\n",
    "            node = self.existing_nodes[key]\n",
    "\n",
    "        return node\n",
    "        \n",
    "    \n",
    "    # Build an adjacency list from file\n",
    "    def _build_an_adjacency_list_from_file(self, in_path):\n",
    "        with open(in_path, 'r') as file:\n",
    "            lines = file.readlines()\n",
    "            n = int(lines[0].strip())\n",
    "            \n",
    "            \n",
    "            for line in lines[1:]:\n",
    "                # Construct nodes from file\n",
    "                key1 = int(line[1].strip())\n",
    "                node1 = self._build_individual_node(key1)\n",
    "                key2 = int(line[3].strip())\n",
    "                node2 = self._build_individual_node(key2)  \n",
    "                \n",
    "                # Add edges\n",
    "                node1.neighbors.add(node2)\n",
    "                node2.neighbors.add(node1)\n",
    "\n",
    "                # Add nodes to adj list\n",
    "                self.adj_list.add(node1)   \n",
    "                self.adj_list.add(node2)\n",
    "                    \n",
    "        return self.adj_list\n",
    "    \n",
    "    @property\n",
    "    def graph(self):\n",
    "        return [(node.key, [nbs.key for nbs in node.neighbors]) for node in self.adj_list]\n",
    "\n",
    "    \n",
    "    def is_bipartite(self):\n",
    "        first_node = list(self.adj_list)[0]\n",
    "        queue = [first_node]\n",
    "        visited = set()\n",
    "        \n",
    "        while queue:\n",
    "            node = queue.pop(0)\n",
    "            if node.belongs_to == None:\n",
    "                node.belongs_to = self.sets[0]\n",
    "                \n",
    "            for node_nbs in node.neighbors:\n",
    "                if node_nbs.belongs_to == None:\n",
    "                    node_nbs.belongs_to = [s for s in self.sets if s != node.belongs_to][0]\n",
    "                elif node_nbs.belongs_to == node.belongs_to:\n",
    "                    return \"No, it's not bipartite.\"\n",
    "                \n",
    "            visited.add(node)  \n",
    "            nodes = node.neighbors - visited\n",
    "            queue.extend(nodes)    \n",
    "                \n",
    "        return ([v.key for v in self.adj_list if v.belongs_to == self.sets[0]], \n",
    "                [v.key for v in self.adj_list if v.belongs_to == self.sets[1]])\n",
    "    \n",
    "        \n",
    "\n"
   ]
  },
  {
   "cell_type": "markdown",
   "metadata": {},
   "source": [
    "## Self check"
   ]
  },
  {
   "cell_type": "markdown",
   "metadata": {},
   "source": [
    "### Check adjacency list"
   ]
  },
  {
   "cell_type": "code",
   "execution_count": 42,
   "metadata": {},
   "outputs": [
    {
     "data": {
      "text/plain": [
       "[(1, [2]),\n",
       " (6, [5]),\n",
       " (3, [4, 2]),\n",
       " (4, [3, 7]),\n",
       " (2, [1, 3, 9]),\n",
       " (9, [8, 2]),\n",
       " (5, [6, 8]),\n",
       " (8, [5, 9]),\n",
       " (7, [4])]"
      ]
     },
     "execution_count": 42,
     "metadata": {},
     "output_type": "execute_result"
    }
   ],
   "source": [
    "al = Adjacency_List('./bipartite.txt')\n",
    "al.graph"
   ]
  },
  {
   "cell_type": "markdown",
   "metadata": {},
   "source": [
    "### Test if the provided graphs are bipartite.\n"
   ]
  },
  {
   "cell_type": "code",
   "execution_count": 39,
   "metadata": {},
   "outputs": [],
   "source": [
    "def test(file_name):\n",
    "    al = Adjacency_List(file_name)\n",
    "    return al.is_bipartite()    "
   ]
  },
  {
   "cell_type": "code",
   "execution_count": 40,
   "metadata": {},
   "outputs": [
    {
     "name": "stdout",
     "output_type": "stream",
     "text": [
      "([8, 2, 4, 6], [1, 5, 7, 3, 9])\n",
      "([5, 1, 3], [2, 4, 6])\n",
      "No, it's not bipartite.\n",
      "No, it's not bipartite.\n"
     ]
    }
   ],
   "source": [
    "file_names = ['./bipartite.txt', './bipartite2.txt', './not_bipartite.txt', './not_bipartite2.txt']\n",
    "\n",
    "for fname in file_names:\n",
    "    print(test(fname))"
   ]
  },
  {
   "cell_type": "code",
   "execution_count": null,
   "metadata": {},
   "outputs": [],
   "source": []
  },
  {
   "cell_type": "code",
   "execution_count": null,
   "metadata": {},
   "outputs": [],
   "source": []
  }
 ],
 "metadata": {
  "kernelspec": {
   "display_name": "Python 3",
   "language": "python",
   "name": "python3"
  },
  "language_info": {
   "codemirror_mode": {
    "name": "ipython",
    "version": 3
   },
   "file_extension": ".py",
   "mimetype": "text/x-python",
   "name": "python",
   "nbconvert_exporter": "python",
   "pygments_lexer": "ipython3",
   "version": "3.6.7"
  }
 },
 "nbformat": 4,
 "nbformat_minor": 4
}
